{
 "cells": [
  {
   "cell_type": "markdown",
   "metadata": {},
   "source": [
    "## 1. Import libraries ##"
   ]
  },
  {
   "cell_type": "code",
   "execution_count": 1,
   "metadata": {},
   "outputs": [],
   "source": [
    "import numpy as np\n",
    "import pandas as pd\n",
    "import nltk\n",
    "from nltk.corpus import stopwords\n",
    "from nltk.stem.porter import PorterStemmer\n",
    "from sklearn.model_selection import train_test_split\n",
    "from sklearn.feature_extraction.text import TfidfVectorizer\n",
    "from sklearn.metrics import accuracy_score"
   ]
  },
  {
   "cell_type": "markdown",
   "metadata": {},
   "source": [
    "## 2. Import train dataset ##"
   ]
  },
  {
   "cell_type": "code",
   "execution_count": 2,
   "metadata": {
    "scrolled": false
   },
   "outputs": [
    {
     "name": "stdout",
     "output_type": "stream",
     "text": [
      "(100000, 4)\n",
      "\n",
      "-----------------------------------------\n",
      "\n",
      "<class 'pandas.core.frame.DataFrame'>\n",
      "RangeIndex: 100000 entries, 0 to 99999\n",
      "Data columns (total 4 columns):\n",
      " #   Column    Non-Null Count   Dtype \n",
      "---  ------    --------------   ----- \n",
      " 0   ID        100000 non-null  int64 \n",
      " 1   keywords  88344 non-null   object\n",
      " 2   age       100000 non-null  int64 \n",
      " 3   sex       100000 non-null  object\n",
      "dtypes: int64(2), object(2)\n",
      "memory usage: 3.1+ MB\n",
      "None\n",
      "\n",
      "-----------------------------------------\n"
     ]
    },
    {
     "data": {
      "text/html": [
       "<div>\n",
       "<style scoped>\n",
       "    .dataframe tbody tr th:only-of-type {\n",
       "        vertical-align: middle;\n",
       "    }\n",
       "\n",
       "    .dataframe tbody tr th {\n",
       "        vertical-align: top;\n",
       "    }\n",
       "\n",
       "    .dataframe thead th {\n",
       "        text-align: right;\n",
       "    }\n",
       "</style>\n",
       "<table border=\"1\" class=\"dataframe\">\n",
       "  <thead>\n",
       "    <tr style=\"text-align: right;\">\n",
       "      <th></th>\n",
       "      <th>ID</th>\n",
       "      <th>keywords</th>\n",
       "      <th>age</th>\n",
       "      <th>sex</th>\n",
       "    </tr>\n",
       "  </thead>\n",
       "  <tbody>\n",
       "    <tr>\n",
       "      <th>0</th>\n",
       "      <td>696449</td>\n",
       "      <td>NaN</td>\n",
       "      <td>50</td>\n",
       "      <td>M</td>\n",
       "    </tr>\n",
       "    <tr>\n",
       "      <th>1</th>\n",
       "      <td>361410</td>\n",
       "      <td>forum:3;contrat:1;calcul:3;conges:1;mission:4;...</td>\n",
       "      <td>47</td>\n",
       "      <td>M</td>\n",
       "    </tr>\n",
       "    <tr>\n",
       "      <th>2</th>\n",
       "      <td>211450</td>\n",
       "      <td>villa:1;location:2;aquitaine:2;maison:1;vacanc...</td>\n",
       "      <td>61</td>\n",
       "      <td>F</td>\n",
       "    </tr>\n",
       "    <tr>\n",
       "      <th>3</th>\n",
       "      <td>1368807</td>\n",
       "      <td>trafic:1;tournante:1;drogue:1;france:1;plaque:...</td>\n",
       "      <td>45</td>\n",
       "      <td>M</td>\n",
       "    </tr>\n",
       "    <tr>\n",
       "      <th>4</th>\n",
       "      <td>3502570</td>\n",
       "      <td>trafic:1;septembre:1;greve:1;sncf:1;sortir:1;p...</td>\n",
       "      <td>22</td>\n",
       "      <td>M</td>\n",
       "    </tr>\n",
       "  </tbody>\n",
       "</table>\n",
       "</div>"
      ],
      "text/plain": [
       "        ID                                           keywords  age sex\n",
       "0   696449                                                NaN   50   M\n",
       "1   361410  forum:3;contrat:1;calcul:3;conges:1;mission:4;...   47   M\n",
       "2   211450  villa:1;location:2;aquitaine:2;maison:1;vacanc...   61   F\n",
       "3  1368807  trafic:1;tournante:1;drogue:1;france:1;plaque:...   45   M\n",
       "4  3502570  trafic:1;septembre:1;greve:1;sncf:1;sortir:1;p...   22   M"
      ]
     },
     "execution_count": 2,
     "metadata": {},
     "output_type": "execute_result"
    }
   ],
   "source": [
    "dataframe = pd.read_csv('small_train.csv')\n",
    "df = dataframe.head(100000)\n",
    "print(df.shape)\n",
    "print('\\n-----------------------------------------\\n')\n",
    "print(df.info())\n",
    "print('\\n-----------------------------------------')\n",
    "df.head()"
   ]
  },
  {
   "cell_type": "markdown",
   "metadata": {},
   "source": [
    "## 3. Clean train dataset ##"
   ]
  },
  {
   "cell_type": "code",
   "execution_count": 3,
   "metadata": {},
   "outputs": [
    {
     "name": "stderr",
     "output_type": "stream",
     "text": [
      "<ipython-input-3-582d964ed911>:3: SettingWithCopyWarning: \n",
      "A value is trying to be set on a copy of a slice from a DataFrame\n",
      "\n",
      "See the caveats in the documentation: https://pandas.pydata.org/pandas-docs/stable/user_guide/indexing.html#returning-a-view-versus-a-copy\n",
      "  df.dropna(inplace=True)\n"
     ]
    },
    {
     "data": {
      "text/html": [
       "<div>\n",
       "<style scoped>\n",
       "    .dataframe tbody tr th:only-of-type {\n",
       "        vertical-align: middle;\n",
       "    }\n",
       "\n",
       "    .dataframe tbody tr th {\n",
       "        vertical-align: top;\n",
       "    }\n",
       "\n",
       "    .dataframe thead th {\n",
       "        text-align: right;\n",
       "    }\n",
       "</style>\n",
       "<table border=\"1\" class=\"dataframe\">\n",
       "  <thead>\n",
       "    <tr style=\"text-align: right;\">\n",
       "      <th></th>\n",
       "      <th>ID</th>\n",
       "      <th>keywords</th>\n",
       "      <th>age</th>\n",
       "      <th>sex</th>\n",
       "    </tr>\n",
       "  </thead>\n",
       "  <tbody>\n",
       "    <tr>\n",
       "      <th>1</th>\n",
       "      <td>361410</td>\n",
       "      <td>forum:3;contrat:1;calcul:3;conges:1;mission:4;...</td>\n",
       "      <td>47</td>\n",
       "      <td>M</td>\n",
       "    </tr>\n",
       "    <tr>\n",
       "      <th>2</th>\n",
       "      <td>211450</td>\n",
       "      <td>villa:1;location:2;aquitaine:2;maison:1;vacanc...</td>\n",
       "      <td>61</td>\n",
       "      <td>F</td>\n",
       "    </tr>\n",
       "    <tr>\n",
       "      <th>3</th>\n",
       "      <td>1368807</td>\n",
       "      <td>trafic:1;tournante:1;drogue:1;france:1;plaque:...</td>\n",
       "      <td>45</td>\n",
       "      <td>M</td>\n",
       "    </tr>\n",
       "    <tr>\n",
       "      <th>4</th>\n",
       "      <td>3502570</td>\n",
       "      <td>trafic:1;septembre:1;greve:1;sncf:1;sortir:1;p...</td>\n",
       "      <td>22</td>\n",
       "      <td>M</td>\n",
       "    </tr>\n",
       "    <tr>\n",
       "      <th>5</th>\n",
       "      <td>2027488</td>\n",
       "      <td>darmanin:1;pour:1;ferme:1;jcms:1;conjoncture:1...</td>\n",
       "      <td>55</td>\n",
       "      <td>M</td>\n",
       "    </tr>\n",
       "  </tbody>\n",
       "</table>\n",
       "</div>"
      ],
      "text/plain": [
       "        ID                                           keywords  age sex\n",
       "1   361410  forum:3;contrat:1;calcul:3;conges:1;mission:4;...   47   M\n",
       "2   211450  villa:1;location:2;aquitaine:2;maison:1;vacanc...   61   F\n",
       "3  1368807  trafic:1;tournante:1;drogue:1;france:1;plaque:...   45   M\n",
       "4  3502570  trafic:1;septembre:1;greve:1;sncf:1;sortir:1;p...   22   M\n",
       "5  2027488  darmanin:1;pour:1;ferme:1;jcms:1;conjoncture:1...   55   M"
      ]
     },
     "execution_count": 3,
     "metadata": {},
     "output_type": "execute_result"
    }
   ],
   "source": [
    "# Drop NA\n",
    "\n",
    "df.dropna(inplace=True)\n",
    "df.head()"
   ]
  },
  {
   "cell_type": "code",
   "execution_count": 4,
   "metadata": {},
   "outputs": [
    {
     "name": "stderr",
     "output_type": "stream",
     "text": [
      "<ipython-input-4-015feedaa982>:3: SettingWithCopyWarning: \n",
      "A value is trying to be set on a copy of a slice from a DataFrame.\n",
      "Try using .loc[row_indexer,col_indexer] = value instead\n",
      "\n",
      "See the caveats in the documentation: https://pandas.pydata.org/pandas-docs/stable/user_guide/indexing.html#returning-a-view-versus-a-copy\n",
      "  df['sex'] = pd.get_dummies(df['sex'], drop_first=True)\n"
     ]
    },
    {
     "data": {
      "text/html": [
       "<div>\n",
       "<style scoped>\n",
       "    .dataframe tbody tr th:only-of-type {\n",
       "        vertical-align: middle;\n",
       "    }\n",
       "\n",
       "    .dataframe tbody tr th {\n",
       "        vertical-align: top;\n",
       "    }\n",
       "\n",
       "    .dataframe thead th {\n",
       "        text-align: right;\n",
       "    }\n",
       "</style>\n",
       "<table border=\"1\" class=\"dataframe\">\n",
       "  <thead>\n",
       "    <tr style=\"text-align: right;\">\n",
       "      <th></th>\n",
       "      <th>ID</th>\n",
       "      <th>keywords</th>\n",
       "      <th>age</th>\n",
       "      <th>sex</th>\n",
       "    </tr>\n",
       "  </thead>\n",
       "  <tbody>\n",
       "    <tr>\n",
       "      <th>1</th>\n",
       "      <td>361410</td>\n",
       "      <td>forum:3;contrat:1;calcul:3;conges:1;mission:4;...</td>\n",
       "      <td>47</td>\n",
       "      <td>1</td>\n",
       "    </tr>\n",
       "    <tr>\n",
       "      <th>2</th>\n",
       "      <td>211450</td>\n",
       "      <td>villa:1;location:2;aquitaine:2;maison:1;vacanc...</td>\n",
       "      <td>61</td>\n",
       "      <td>0</td>\n",
       "    </tr>\n",
       "    <tr>\n",
       "      <th>3</th>\n",
       "      <td>1368807</td>\n",
       "      <td>trafic:1;tournante:1;drogue:1;france:1;plaque:...</td>\n",
       "      <td>45</td>\n",
       "      <td>1</td>\n",
       "    </tr>\n",
       "    <tr>\n",
       "      <th>4</th>\n",
       "      <td>3502570</td>\n",
       "      <td>trafic:1;septembre:1;greve:1;sncf:1;sortir:1;p...</td>\n",
       "      <td>22</td>\n",
       "      <td>1</td>\n",
       "    </tr>\n",
       "    <tr>\n",
       "      <th>5</th>\n",
       "      <td>2027488</td>\n",
       "      <td>darmanin:1;pour:1;ferme:1;jcms:1;conjoncture:1...</td>\n",
       "      <td>55</td>\n",
       "      <td>1</td>\n",
       "    </tr>\n",
       "  </tbody>\n",
       "</table>\n",
       "</div>"
      ],
      "text/plain": [
       "        ID                                           keywords  age  sex\n",
       "1   361410  forum:3;contrat:1;calcul:3;conges:1;mission:4;...   47    1\n",
       "2   211450  villa:1;location:2;aquitaine:2;maison:1;vacanc...   61    0\n",
       "3  1368807  trafic:1;tournante:1;drogue:1;france:1;plaque:...   45    1\n",
       "4  3502570  trafic:1;septembre:1;greve:1;sncf:1;sortir:1;p...   22    1\n",
       "5  2027488  darmanin:1;pour:1;ferme:1;jcms:1;conjoncture:1...   55    1"
      ]
     },
     "execution_count": 4,
     "metadata": {},
     "output_type": "execute_result"
    }
   ],
   "source": [
    "# Encode sex\n",
    "\n",
    "df['sex'] = pd.get_dummies(df['sex'], drop_first=True)\n",
    "df.head()"
   ]
  },
  {
   "cell_type": "code",
   "execution_count": 5,
   "metadata": {},
   "outputs": [],
   "source": [
    "stop_words = stopwords.words()\n",
    "porter = PorterStemmer()\n",
    "def cleantext(counttext):\n",
    "    wordcounts=counttext.split(\";\")\n",
    "    text=\"\"\n",
    "    for words in wordcounts:\n",
    "        wordocr=words.split(\":\")\n",
    "        if len(wordocr)>1 and not wordocr[0] in stop_words :\n",
    "            wordocr[0]=porter.stem(wordocr[0])\n",
    "            text+=(wordocr[0]+\" \")*int(wordocr[1])\n",
    "    return text"
   ]
  },
  {
   "cell_type": "code",
   "execution_count": 6,
   "metadata": {},
   "outputs": [],
   "source": [
    "df = df[df[\"keywords\"].str.contains(\":\")]"
   ]
  },
  {
   "cell_type": "code",
   "execution_count": 7,
   "metadata": {},
   "outputs": [],
   "source": [
    "df[\"keywords\"]=df[\"keywords\"].map(lambda x: cleantext(x))"
   ]
  },
  {
   "cell_type": "code",
   "execution_count": 8,
   "metadata": {},
   "outputs": [],
   "source": [
    "df.dropna(inplace=True)"
   ]
  },
  {
   "cell_type": "code",
   "execution_count": 9,
   "metadata": {},
   "outputs": [
    {
     "data": {
      "text/html": [
       "<div>\n",
       "<style scoped>\n",
       "    .dataframe tbody tr th:only-of-type {\n",
       "        vertical-align: middle;\n",
       "    }\n",
       "\n",
       "    .dataframe tbody tr th {\n",
       "        vertical-align: top;\n",
       "    }\n",
       "\n",
       "    .dataframe thead th {\n",
       "        text-align: right;\n",
       "    }\n",
       "</style>\n",
       "<table border=\"1\" class=\"dataframe\">\n",
       "  <thead>\n",
       "    <tr style=\"text-align: right;\">\n",
       "      <th></th>\n",
       "      <th>ID</th>\n",
       "      <th>keywords</th>\n",
       "      <th>age</th>\n",
       "      <th>sex</th>\n",
       "    </tr>\n",
       "  </thead>\n",
       "  <tbody>\n",
       "    <tr>\n",
       "      <th>1</th>\n",
       "      <td>361410</td>\n",
       "      <td>forum forum forum contrat calcul calcul calcul...</td>\n",
       "      <td>47</td>\n",
       "      <td>1</td>\n",
       "    </tr>\n",
       "    <tr>\n",
       "      <th>2</th>\n",
       "      <td>211450</td>\n",
       "      <td>villa locat locat aquitain aquitain maison vac...</td>\n",
       "      <td>61</td>\n",
       "      <td>0</td>\n",
       "    </tr>\n",
       "    <tr>\n",
       "      <th>3</th>\n",
       "      <td>1368807</td>\n",
       "      <td>trafic tournant drogu franc plaqu actualit</td>\n",
       "      <td>45</td>\n",
       "      <td>1</td>\n",
       "    </tr>\n",
       "    <tr>\n",
       "      <th>4</th>\n",
       "      <td>3502570</td>\n",
       "      <td>trafic septembr greve sncf sortir perturb maga...</td>\n",
       "      <td>22</td>\n",
       "      <td>1</td>\n",
       "    </tr>\n",
       "    <tr>\n",
       "      <th>5</th>\n",
       "      <td>2027488</td>\n",
       "      <td>darmanin ferm jcm conjonctur guichet p1_169806...</td>\n",
       "      <td>55</td>\n",
       "      <td>1</td>\n",
       "    </tr>\n",
       "  </tbody>\n",
       "</table>\n",
       "</div>"
      ],
      "text/plain": [
       "        ID                                           keywords  age  sex\n",
       "1   361410  forum forum forum contrat calcul calcul calcul...   47    1\n",
       "2   211450  villa locat locat aquitain aquitain maison vac...   61    0\n",
       "3  1368807        trafic tournant drogu franc plaqu actualit    45    1\n",
       "4  3502570  trafic septembr greve sncf sortir perturb maga...   22    1\n",
       "5  2027488  darmanin ferm jcm conjonctur guichet p1_169806...   55    1"
      ]
     },
     "execution_count": 9,
     "metadata": {},
     "output_type": "execute_result"
    }
   ],
   "source": [
    "df.head()"
   ]
  },
  {
   "cell_type": "markdown",
   "metadata": {},
   "source": [
    "## 4. Split data (test & train) ##"
   ]
  },
  {
   "cell_type": "code",
   "execution_count": 10,
   "metadata": {},
   "outputs": [],
   "source": [
    "predictionsex = dict()\n",
    "predictionage = dict()"
   ]
  },
  {
   "cell_type": "code",
   "execution_count": 11,
   "metadata": {},
   "outputs": [
    {
     "name": "stdout",
     "output_type": "stream",
     "text": [
      "(70675,)\n",
      "(17669,)\n",
      "(70675,)\n",
      "(17669,)\n",
      "(70675,)\n",
      "(17669,)\n"
     ]
    }
   ],
   "source": [
    "X_train, X_test, y_train, y_test, z_train, z_test = train_test_split(df[\"keywords\"], df['sex'], df['age'], test_size = 0.2, random_state = 123)\n",
    "print(X_train.shape)\n",
    "print(X_test.shape)\n",
    "print(y_train.shape)\n",
    "print(y_test.shape)\n",
    "print(z_train.shape)\n",
    "print(z_test.shape)"
   ]
  },
  {
   "cell_type": "code",
   "execution_count": 12,
   "metadata": {},
   "outputs": [
    {
     "data": {
      "text/plain": [
       "TfidfVectorizer()"
      ]
     },
     "execution_count": 12,
     "metadata": {},
     "output_type": "execute_result"
    }
   ],
   "source": [
    "vc = TfidfVectorizer()\n",
    "vc.fit(X_train.apply(lambda x: np.str_(x)))\n",
    "vc.fit(X_test.apply(lambda x: np.str_(x)))"
   ]
  },
  {
   "cell_type": "code",
   "execution_count": 13,
   "metadata": {},
   "outputs": [
    {
     "name": "stdout",
     "output_type": "stream",
     "text": [
      "Vocabulary size: 26905\n"
     ]
    }
   ],
   "source": [
    "print(\"Vocabulary size: {}\".format(len(vc.vocabulary_)))"
   ]
  },
  {
   "cell_type": "code",
   "execution_count": 14,
   "metadata": {},
   "outputs": [],
   "source": [
    "X_train_tf = vc.transform(X_train.apply(lambda x: np.str_(x)))\n",
    "X_test_tf = vc.transform(X_test.apply(lambda x: np.str_(x)))"
   ]
  },
  {
   "cell_type": "markdown",
   "metadata": {},
   "source": [
    "## 5. Predict sex##"
   ]
  },
  {
   "cell_type": "code",
   "execution_count": 15,
   "metadata": {},
   "outputs": [
    {
     "data": {
      "text/plain": [
       "0.5977135095364763"
      ]
     },
     "execution_count": 15,
     "metadata": {},
     "output_type": "execute_result"
    }
   ],
   "source": [
    "# Logistic Regression\n",
    "\n",
    "from sklearn.linear_model import LogisticRegression\n",
    "model_LR = LogisticRegression(max_iter=10000)\n",
    "model_LR.fit(X_train_tf, y_train)\n",
    "predictionsex[\"LR\"] = model_LR.predict(X_test_tf)\n",
    "model_LR.score(X_test_tf, y_test)"
   ]
  },
  {
   "cell_type": "code",
   "execution_count": 16,
   "metadata": {},
   "outputs": [],
   "source": [
    "# Naive Bayes\n",
    "\n",
    "# from sklearn.naive_bayes import MultinomialNB\n",
    "# model_NB = MultinomialNB()\n",
    "# model_NB.fit(X_train_tf,y_train)\n",
    "# predictionsex[\"NB\"] = model_NB.predict(X_test_tf)\n",
    "# model_NB.score(X_test_tf, y_test)"
   ]
  },
  {
   "cell_type": "code",
   "execution_count": 17,
   "metadata": {},
   "outputs": [],
   "source": [
    "# Random Forest\n",
    "\n",
    "# from sklearn.ensemble import RandomForestClassifier\n",
    "# model_RF = RandomForestClassifier(n_estimators=2000,max_depth=8)\n",
    "# model_RF.fit(X_train_tf, y_train)\n",
    "# predictionsex[\"RF\"] = model_RF.predict(X_test_tf)\n",
    "# model_RF.score(X_test_tf, y_test)"
   ]
  },
  {
   "cell_type": "markdown",
   "metadata": {},
   "source": [
    "## 6. Predict age##"
   ]
  },
  {
   "cell_type": "code",
   "execution_count": null,
   "metadata": {},
   "outputs": [],
   "source": [
    "# Random Forest\n",
    "\n",
    "from sklearn.ensemble import RandomForestRegressor\n",
    "model_RF = RandomForestRegressor()\n",
    "model_RF.fit(X_train_tf,z_train)\n",
    "from sklearn.metrics import mean_squared_error \n",
    "from sklearn.metrics import mean_absolute_error\n",
    "from sklearn.metrics import r2_score\n",
    "predictionage[\"RF\"] = model_RF.predict(X_test_tf)\n",
    "print(\"Mean square error:%.4f\"%(mean_squared_error(z_test,predictionage[\"RF\"])))\n",
    "print(\"Mean absolute error:%.4f\"%(mean_absolute_error(z_test,predictionage[\"RF\"])))\n",
    "print(\"R square: \", '{:.2%}'.format(r2_score(z_test,predictionage[\"RF\"])))"
   ]
  },
  {
   "cell_type": "code",
   "execution_count": null,
   "metadata": {},
   "outputs": [],
   "source": [
    "# Linear Regression\n",
    "\n",
    "# from sklearn.linear_model import LinearRegression\n",
    "# model_linreg = LinearRegression()\n",
    "# model_linreg.fit(X_train_tf,z_train)\n",
    "# from sklearn.metrics import mean_squared_error \n",
    "# from sklearn.metrics import mean_absolute_error\n",
    "# from sklearn.metrics import r2_score\n",
    "# predictionage[\"linreg\"] = model_linreg.predict(X_test_tf)\n",
    "# print(\"Mean square error:%.4f\"%(mean_squared_error(z_test,predictionage[\"linreg\"])))\n",
    "# print(\"Mean absolute error:%.4f\"%(mean_absolute_error(z_test,predictionage[\"linreg\"])))\n",
    "# print(\"R square: \", '{:.2%}'.format(r2_score(z_test,predictionage[\"linreg\"])))"
   ]
  },
  {
   "cell_type": "code",
   "execution_count": null,
   "metadata": {},
   "outputs": [],
   "source": [
    "# Polynomial Regression\n",
    "\n",
    "# from sklearn.preprocessing import PolynomialFeatures\n",
    "# from sklearn.linear_model import LinearRegression\n",
    "# poly_reg = PolynomialFeatures(degree = 2)\n",
    "# X_poly = poly_reg.fit_transform(X_train_tf)\n",
    "# regressor = LinearRegression()\n",
    "# regressor.fit(X_poly, z_train)\n",
    "# z_pred = regressor.predict(poly_reg.transform(X_test_tf))\n",
    "# np.set_printoptions(precision=2)\n",
    "# print(np.concatenate((z_pred.reshape(len(z_pred),1), z_test.reshape(len(z_test),1)),1))\n",
    "# from sklearn.metrics import r2_score\n",
    "# r2_score(z_test, z_pred)"
   ]
  },
  {
   "cell_type": "code",
   "execution_count": null,
   "metadata": {},
   "outputs": [],
   "source": [
    "# Stochastic Gradient Descent\n",
    "\n",
    "# from sklearn.linear_model import SGDRegressor\n",
    "# model_sgd = SGDRegressor(alpha=0.00001,max_iter=10000,random_state=42)\n",
    "# model_sgd.fit(X_train_tf,z_train)\n",
    "# from sklearn.metrics import mean_squared_error \n",
    "# from sklearn.metrics import mean_absolute_error\n",
    "# from sklearn.metrics import r2_score\n",
    "# predictionage = dict()\n",
    "# predictionage[\"sgd\"] = model_sgd.predict(X_test_tf)\n",
    "# print(\"Mean square error:%.4f\"%(mean_squared_error(z_test,predictionage[\"sgd\"])))\n",
    "# print(\"Mean absolute error:%.4f\"%(mean_absolute_error(z_test,predictionage[\"sgd\"])))\n",
    "# print(\"R square: \", '{:.2%}'.format(r2_score(z_test,predictionage[\"sgd\"])))"
   ]
  },
  {
   "cell_type": "markdown",
   "metadata": {},
   "source": [
    "## 7. Import test dataset##"
   ]
  },
  {
   "cell_type": "code",
   "execution_count": null,
   "metadata": {},
   "outputs": [],
   "source": [
    "dataframe_test = pd.read_csv('small_test.csv')\n",
    "df_test = dataframe_test.head(10000)"
   ]
  },
  {
   "cell_type": "markdown",
   "metadata": {},
   "source": [
    "## 8. Clean test dataset##"
   ]
  },
  {
   "cell_type": "code",
   "execution_count": null,
   "metadata": {},
   "outputs": [],
   "source": [
    "df_test = df_test[['ID','keywords']]\n",
    "df_test.dropna(inplace = True)\n",
    "df_test.head()"
   ]
  },
  {
   "cell_type": "code",
   "execution_count": null,
   "metadata": {},
   "outputs": [],
   "source": [
    "df_test = df_test[df_test[\"keywords\"].str.contains(\":\")]\n",
    "df_test[\"keywords\"] = df_test[\"keywords\"].map(lambda x: cleantext(x))\n",
    "df_test.dropna(inplace = True)\n",
    "df_test.head()"
   ]
  },
  {
   "cell_type": "code",
   "execution_count": null,
   "metadata": {},
   "outputs": [],
   "source": [
    "X_test_final = vc.transform(df_test[\"keywords\"].apply(lambda x: np.str_(x)))"
   ]
  },
  {
   "cell_type": "markdown",
   "metadata": {},
   "source": [
    "## 9. Apply model##"
   ]
  },
  {
   "cell_type": "code",
   "execution_count": null,
   "metadata": {},
   "outputs": [],
   "source": [
    "result=pd.DataFrame()\n",
    "result[\"ID\"]=test[\"ID\"]\n",
    "result[\"sex_pred\"]=model_LR.predict(X_test_final)"
   ]
  },
  {
   "cell_type": "code",
   "execution_count": null,
   "metadata": {},
   "outputs": [],
   "source": [
    "result[\"sex_pred\"]=result[\"sex_pred\"].replace(1, \"M\")\n",
    "result[\"sex_pred\"]=result[\"sex_pred\"].replace(0, \"F\")"
   ]
  },
  {
   "cell_type": "code",
   "execution_count": null,
   "metadata": {},
   "outputs": [],
   "source": [
    "result[\"age_pred\"]=model_RF.predict(X_test_final)"
   ]
  },
  {
   "cell_type": "code",
   "execution_count": null,
   "metadata": {},
   "outputs": [],
   "source": [
    "result.head()"
   ]
  },
  {
   "cell_type": "markdown",
   "metadata": {},
   "source": [
    "## 10. Export results##"
   ]
  },
  {
   "cell_type": "code",
   "execution_count": null,
   "metadata": {},
   "outputs": [],
   "source": [
    "result.to_csv(\"final_results.csv\",index=False,sep=',')"
   ]
  },
  {
   "cell_type": "code",
   "execution_count": null,
   "metadata": {},
   "outputs": [],
   "source": []
  }
 ],
 "metadata": {
  "kernelspec": {
   "display_name": "Python 3",
   "language": "python",
   "name": "python3"
  },
  "language_info": {
   "codemirror_mode": {
    "name": "ipython",
    "version": 3
   },
   "file_extension": ".py",
   "mimetype": "text/x-python",
   "name": "python",
   "nbconvert_exporter": "python",
   "pygments_lexer": "ipython3",
   "version": "3.8.3"
  }
 },
 "nbformat": 4,
 "nbformat_minor": 4
}
